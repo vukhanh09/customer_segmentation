{
 "cells": [
  {
   "cell_type": "code",
   "execution_count": 16,
   "metadata": {},
   "outputs": [],
   "source": [
    "import pickle\n",
    "import pandas as pd\n",
    "from interpret import set_visualize_provider\n",
    "from interpret.provider import InlineProvider\n",
    "set_visualize_provider(InlineProvider())\n",
    "from interpret import show\n",
    "from interpret.blackbox import LimeTabular\n",
    "import warnings\n",
    "warnings.filterwarnings('ignore')\n",
    "import numpy as np\n",
    "from lime.lime_tabular import LimeTabularExplainer"
   ]
  },
  {
   "cell_type": "code",
   "execution_count": 17,
   "metadata": {},
   "outputs": [],
   "source": [
    "def load_model(model_name):\n",
    "    with open(f'../weight_model/{model_name}.pkl','rb') as f:\n",
    "        return pickle.load(f)"
   ]
  },
  {
   "cell_type": "code",
   "execution_count": 18,
   "metadata": {},
   "outputs": [],
   "source": [
    "votingC = load_model('votingC')"
   ]
  },
  {
   "cell_type": "code",
   "execution_count": 19,
   "metadata": {},
   "outputs": [],
   "source": [
    "def load_csv(file_name):\n",
    "    return pd.read_csv(f'../dataset/{file_name}.csv')"
   ]
  },
  {
   "cell_type": "code",
   "execution_count": 20,
   "metadata": {},
   "outputs": [],
   "source": [
    "X_train = load_csv('X_train')\n",
    "Y_train = load_csv('Y_train')\n",
    "X_test = load_csv('X_test')\n",
    "Y_test = load_csv('Y_test')"
   ]
  },
  {
   "cell_type": "code",
   "execution_count": 21,
   "metadata": {},
   "outputs": [
    {
     "data": {
      "text/plain": [
       "9"
      ]
     },
     "execution_count": 21,
     "metadata": {},
     "output_type": "execute_result"
    }
   ],
   "source": [
    "len(Y_train['cluster'].unique())"
   ]
  },
  {
   "cell_type": "code",
   "execution_count": 22,
   "metadata": {},
   "outputs": [],
   "source": [
    "class Explainer:\n",
    "    def __init__(self, X_train,Y_train,X_test,Y_test,model):\n",
    "        self.X_test = X_test\n",
    "        self.Y_test = Y_test\n",
    "        self.model = model\n",
    "        self.explainer= LimeTabularExplainer(training_data=X_train.values,\n",
    "                                mode='classification', \n",
    "                                feature_names=list(X_train.columns),\n",
    "                                training_labels=Y_train.values,\n",
    "                                class_names = range(len(Y_train['cluster'].unique())),\n",
    "                                random_state=12)\n",
    "    \n",
    "    def explain_instance(self):\n",
    "        max_id = X_test.shape[0]\n",
    "        idx = int(input(f'Enter customer_id (0 - {max_id}):'))\n",
    "        top_labels = int(input(f'Enter top_labels: '))\n",
    "        print('Explain for customer_id:', idx)\n",
    "\n",
    "        exp = self.explainer.explain_instance(X_test.iloc[idx], self.model.predict_proba, num_features=10,top_labels=top_labels)\n",
    "        exp.show_in_notebook()"
   ]
  },
  {
   "cell_type": "code",
   "execution_count": 23,
   "metadata": {},
   "outputs": [],
   "source": [
    "explain = Explainer(X_train,Y_train,X_test,Y_test,votingC)"
   ]
  },
  {
   "cell_type": "code",
   "execution_count": 24,
   "metadata": {},
   "outputs": [
    {
     "name": "stdout",
     "output_type": "stream",
     "text": [
      "Explain for customer_id: 10\n"
     ]
    }
   ],
   "source": [
    "explain.explain_instance()"
   ]
  },
  {
   "cell_type": "code",
   "execution_count": null,
   "metadata": {},
   "outputs": [],
   "source": []
  }
 ],
 "metadata": {
  "kernelspec": {
   "display_name": "Python 3 (ipykernel)",
   "language": "python",
   "name": "python3"
  },
  "language_info": {
   "codemirror_mode": {
    "name": "ipython",
    "version": 3
   },
   "file_extension": ".py",
   "mimetype": "text/x-python",
   "name": "python",
   "nbconvert_exporter": "python",
   "pygments_lexer": "ipython3",
   "version": "3.9.7"
  },
  "vscode": {
   "interpreter": {
    "hash": "fe4737cf0a41cf5e93c7bf4b9dc2d43d3c69fc85d82c68e3039db569ea2744e9"
   }
  }
 },
 "nbformat": 4,
 "nbformat_minor": 4
}
